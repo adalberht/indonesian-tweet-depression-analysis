{
 "cells": [
  {
   "cell_type": "code",
   "execution_count": 4,
   "metadata": {},
   "outputs": [],
   "source": [
    "# import twint\n",
    "import pandas as pd\n",
    "pd.set_option('display.max_columns', 50)"
   ]
  },
  {
   "cell_type": "code",
   "execution_count": 5,
   "metadata": {},
   "outputs": [],
   "source": [
    "negative_tweets = None\n",
    "positive_tweets = None\n",
    "\n",
    "def load_from_csv(suffix_file_name='tweet_temp.csv'):\n",
    "    # negative_tweets = pd.DataFrame(columns=df.columns)\n",
    "    # positive_tweets = pd.DataFrame(columns=df.columns)\n",
    "    negative_tweets = pd.read_csv('negative_' + suffix_file_name)\n",
    "    positive_tweets = pd.read_csv('positive_' + suffix_file_name)\n",
    "    return positive_tweets, negative_tweets"
   ]
  },
  {
   "cell_type": "code",
   "execution_count": 6,
   "metadata": {},
   "outputs": [],
   "source": [
    "import uuid\n",
    "import time\n",
    "from threading import Thread\n",
    "\n",
    "def dump_labeled_data(path='tweet_temp.csv'):\n",
    "    global positive_tweets, negative_tweets\n",
    "    print('Positive: ', len(positive_tweets), ' Negative: ', len(negative_tweets),\n",
    "          ' Total : ', len(positive_tweets) + len(negative_tweets))\n",
    "    positive_tweets.to_csv('positive_' + path)\n",
    "    negative_tweets.to_csv('negative_' + path)\n",
    "    \n",
    "def do_label(df):\n",
    "    global positive_tweets\n",
    "    global negative_tweets\n",
    "    print('D for Depressed, H for Healthy, P for pass')\n",
    "    print('Num of tweets: #{}'.format(df.count()))\n",
    "    possible_values = ['D', 'H', 'P']\n",
    "    for idx, row in df.iterrows():\n",
    "        while True:\n",
    "            prompt = input('#{}: {} (D/H/P)'.format(idx + 1, row.tweet))\n",
    "            if prompt in possible_values:\n",
    "                break\n",
    "        if prompt == 'H':\n",
    "            positive_tweets = positive_tweets.append(row)\n",
    "        elif prompt == 'D':\n",
    "            negative_tweets = negative_tweets.append(row)\n",
    "        print()\n",
    "\n",
    "def do_scrap(query_string, limit = 25):\n",
    "    scrap_dir = 'tweet-{}'.format(uuid.uuid1())\n",
    "    c2 = twint.Config()\n",
    "    c2.Limit = limit\n",
    "    c2.Search = query_string\n",
    "    c2.Store_csv = True\n",
    "    c2.Output = scrap_dir\n",
    "    try:\n",
    "        twint.run.Search(c2)\n",
    "    except:\n",
    "        pass\n",
    "\n",
    "    return scrap_dir\n",
    "    \n",
    "def do_read_pd(path):\n",
    "    return pd.read_csv(path + '/tweets.csv')\n",
    "    "
   ]
  },
  {
   "cell_type": "markdown",
   "metadata": {},
   "source": [
    "## Example Usage"
   ]
  },
  {
   "cell_type": "code",
   "execution_count": 8,
   "metadata": {},
   "outputs": [],
   "source": [
    "pos_rani, neg_rani = load_from_csv('tweet_albert.csv')"
   ]
  },
  {
   "cell_type": "code",
   "execution_count": 11,
   "metadata": {},
   "outputs": [],
   "source": [
    "pos, neg = load_from_csv()"
   ]
  },
  {
   "cell_type": "code",
   "execution_count": 12,
   "metadata": {},
   "outputs": [],
   "source": [
    "pos_rehan, neg_rehan = load_from_csv('tweet_rehan.csv')"
   ]
  },
  {
   "cell_type": "code",
   "execution_count": 19,
   "metadata": {},
   "outputs": [
    {
     "data": {
      "text/plain": [
       "{397730606202617857,\n",
       " 424554780669640706,\n",
       " 531345043567546368,\n",
       " 1117335250797879297,\n",
       " 1117463608730869765,\n",
       " 1117717061252202496,\n",
       " 1118177510590533638,\n",
       " 1118897219833196549,\n",
       " 1120346045181915136,\n",
       " 1120720457777340417,\n",
       " 1120985277122498565,\n",
       " 1121079222594723841,\n",
       " 1121406367326072832,\n",
       " 1121515244893786112,\n",
       " 1121961286206545921,\n",
       " 1122004364103520257,\n",
       " 1122114706309672961,\n",
       " 1124109680421163008,\n",
       " 1124140253193748480,\n",
       " 1125348717786058752,\n",
       " 1125405735473385474,\n",
       " 1126111322184142848,\n",
       " 1126117061116088321,\n",
       " 1126354951855165440,\n",
       " 1126438515812622336,\n",
       " 1126488475962728448,\n",
       " 1126512444673646594,\n",
       " 1126523846599663617,\n",
       " 1126616157358714880,\n",
       " 1126670738734194688,\n",
       " 1126848615287144448,\n",
       " 1126857941947015168,\n",
       " 1126894271368314882,\n",
       " 1127262863112974338,\n",
       " 1127650851529453568,\n",
       " 1127933327736881152,\n",
       " 1127935635400957954,\n",
       " 1127946401139314688,\n",
       " 1127951606543077378,\n",
       " 1127951818669973505,\n",
       " 1127952450374160384,\n",
       " 1127956646519435267,\n",
       " 1127957136640602113,\n",
       " 1127957723318874112,\n",
       " 1127958438330290176,\n",
       " 1127960395015004160,\n",
       " 1127961944256729089,\n",
       " 1127961958584467457,\n",
       " 1127961968755666946,\n",
       " 1127961992939986944,\n",
       " 1127962002784018433,\n",
       " 1127962045335216128,\n",
       " 1127962093624258560,\n",
       " 1127962132014817280,\n",
       " 1127962161332965378,\n",
       " 1127962184162529280,\n",
       " 1127962222922063872,\n",
       " 1127962227724521472,\n",
       " 1127962260582744070,\n",
       " 1127962269889875968,\n",
       " 1127962281784922118,\n",
       " 1127962310591504384,\n",
       " 1127962461682819072,\n",
       " 1127962482323087361,\n",
       " 1127962487481982976,\n",
       " 1127962527554342912,\n",
       " 1127962556037918721,\n",
       " 1127962587495145472,\n",
       " 1127962614015750145,\n",
       " 1127962664150257666,\n",
       " 1127962720198729728,\n",
       " 1127962753920933888,\n",
       " 1127962797390712832,\n",
       " 1127962825702486018,\n",
       " 1127962854370316288,\n",
       " 1127963618274725889,\n",
       " 1127964050460037121,\n",
       " 1127964782366117888,\n",
       " 1127965581833949185,\n",
       " 1127965619280695302,\n",
       " 1127965798482366464,\n",
       " 1127965969756766208,\n",
       " 1127967759394959360,\n",
       " 1127968714907742208,\n",
       " 1127970075598655489,\n",
       " 1127970111602688000,\n",
       " 1127970410580959232,\n",
       " 1127970466067431426,\n",
       " 1127970547298516992,\n",
       " 1127970564046409728,\n",
       " 1127970646435045376,\n",
       " 1127970696238256130,\n",
       " 1127970809971003393,\n",
       " 1127970868758368256,\n",
       " 1127970902480572425,\n",
       " 1127971047947423745,\n",
       " 1127971311148396544,\n",
       " 1127971346653204480,\n",
       " 1127971436830658565,\n",
       " 1127971842327584768,\n",
       " 1127971969519898624,\n",
       " 1127972105239322625,\n",
       " 1127972195357958144,\n",
       " 1127972197396430849,\n",
       " 1127972269731409920,\n",
       " 1127972281622208513,\n",
       " 1127972367198638087,\n",
       " 1127972585331802112,\n",
       " 1127972626964439040,\n",
       " 1127972652155465728,\n",
       " 1127972735391420418,\n",
       " 1127972813153767425,\n",
       " 1127973239886508033,\n",
       " 1127973511589318665,\n",
       " 1127973649070186496,\n",
       " 1127973811922456576,\n",
       " 1127973901357608960,\n",
       " 1127974257273630721,\n",
       " 1127974700196352001,\n",
       " 1127974755070406656,\n",
       " 1127974826205827072,\n",
       " 1127974862222315527,\n",
       " 1127974883298660353,\n",
       " 1127974900042321920,\n",
       " 1127974918979645440,\n",
       " 1127974987665514496,\n",
       " 1127974998977548293,\n",
       " 1127975011149422592,\n",
       " 1127975044976599041,\n",
       " 1127975059279060992,\n",
       " 1127975847669800960,\n",
       " 1127992983154872320,\n",
       " 1127996098226733056,\n",
       " 1127997658398748675,\n",
       " 1127998714591604737,\n",
       " 1128000029195530242,\n",
       " 1128000901807894530,\n",
       " 1128002268710629376,\n",
       " 1128006655998709760,\n",
       " 1128006940666109952,\n",
       " 1128011406391963648,\n",
       " 1128012064918786048,\n",
       " 1128012356565364742,\n",
       " 1128012615551053824,\n",
       " 1128013748814303232,\n",
       " 1128014734257737728,\n",
       " 1128018409768144897,\n",
       " 1128019018755915777,\n",
       " 1128020517561044992,\n",
       " 1128024058468024320,\n",
       " 1128028616485269504,\n",
       " 1128029503291150337,\n",
       " 1128034008447762434,\n",
       " 1128034436035932160,\n",
       " 1128036126340440065,\n",
       " 1128036297287725056,\n",
       " 1128036523637497856,\n",
       " 1128037242826440704,\n",
       " 1128038570231353345,\n",
       " 1128038947114741765,\n",
       " 1128039899049779202,\n",
       " 1128041570744262656,\n",
       " 1128043062586822656,\n",
       " 1128043950030200833,\n",
       " 1128044047560351744,\n",
       " 1128044114300231680,\n",
       " 1128044294571302912,\n",
       " 1128044529376845829,\n",
       " 1128044556312649729,\n",
       " 1128044622062784514,\n",
       " 1128045263648485376,\n",
       " 1128045273941401600,\n",
       " 1128046083760840704,\n",
       " 1128046190153453568,\n",
       " 1128047035603492865,\n",
       " 1128047109632978944,\n",
       " 1128047845284536320,\n",
       " 1128047902926954496,\n",
       " 1128048213586370561,\n",
       " 1128048348152225792,\n",
       " 1128048722493837312,\n",
       " 1128049615553458176,\n",
       " 1128049722688585728,\n",
       " 1128049895053463552,\n",
       " 1128049992235532288,\n",
       " 1128050038347665409,\n",
       " 1128050868052357120,\n",
       " 1128050970800209920,\n",
       " 1128051120293572608,\n",
       " 1128051128233385986,\n",
       " 1128051524523806720,\n",
       " 1128051532232925184,\n",
       " 1128051536590819328,\n",
       " 1128051572942835712,\n",
       " 1128052236687265793,\n",
       " 1128052245273006085,\n",
       " 1128052501314449409,\n",
       " 1128053354230190081,\n",
       " 1128053391161094144,\n",
       " 1128053627606716417,\n",
       " 1128055480398434304,\n",
       " 1128055619259265024,\n",
       " 1128056217023074305,\n",
       " 1128059898749640705,\n",
       " 1128061472620212224,\n",
       " 1128061821506613248,\n",
       " 1128062088985710592}"
      ]
     },
     "execution_count": 19,
     "metadata": {},
     "output_type": "execute_result"
    }
   ],
   "source": [
    "pos_ids = set(pos['id'])\n",
    "neg_ids = set(neg['id'])\n",
    "pos_ids"
   ]
  },
  {
   "cell_type": "code",
   "execution_count": 23,
   "metadata": {},
   "outputs": [],
   "source": [
    "for idx, row in pos_rehan.iterrows():\n",
    "    if row['id'] not in pos_ids:\n",
    "        pos = pos.append(row)\n",
    "        pos_ids.add(row['id'])"
   ]
  },
  {
   "cell_type": "code",
   "execution_count": 24,
   "metadata": {},
   "outputs": [],
   "source": [
    "for idx, row in neg_rehan.iterrows():\n",
    "    if row['id'] not in neg_ids:\n",
    "        neg = neg.append(row)\n",
    "        neg_ids.add(row['id'])"
   ]
  },
  {
   "cell_type": "code",
   "execution_count": 27,
   "metadata": {},
   "outputs": [],
   "source": [
    "for idx, row in pos_rani.iterrows():\n",
    "    if row['id'] not in pos_ids:\n",
    "        pos = pos.append(row)\n",
    "        pos_ids.add(row['id'])"
   ]
  },
  {
   "cell_type": "code",
   "execution_count": 28,
   "metadata": {},
   "outputs": [],
   "source": [
    "for idx, row in neg_rani.iterrows():\n",
    "    if row['id'] not in neg_ids:\n",
    "        neg = neg.append(row)\n",
    "        neg_ids.add(row['id'])"
   ]
  },
  {
   "cell_type": "code",
   "execution_count": 31,
   "metadata": {},
   "outputs": [],
   "source": [
    "positive_tweets = pos\n",
    "negative_tweets = neg"
   ]
  },
  {
   "cell_type": "code",
   "execution_count": 12,
   "metadata": {},
   "outputs": [],
   "source": [
    "def read_pd_dataframe(suffixes = ['rani', 'rehan', 'temp', 'albert', 'progress_iv']):\n",
    "    positives, negatives = [], []\n",
    "    for suffix in suffixes:\n",
    "        positive = pd.read_csv(\"positive_tweet_\" + suffix + \".csv\")\n",
    "        negative = pd.read_csv(\"negative_tweet_\" + suffix + \".csv\")\n",
    "        for column in positive.columns:\n",
    "            if 'Unnamed' in column:\n",
    "                positive.drop(column, axis=1, inplace=True)\n",
    "        for column in negative.columns:\n",
    "            if 'Unnamed' in column:\n",
    "                negative.drop(column, axis=1, inplace=True)\n",
    "        positives += [positive]\n",
    "        negatives += [negative]\n",
    "    return (positives, negatives)\n",
    "\n",
    "def get_unique_number_of_tweets(arr_of_dataset):\n",
    "    s = set()\n",
    "    tot = 0\n",
    "    for dataset in arr_of_dataset:\n",
    "        s.update(set(dataset['id']))\n",
    "        tot += len(dataset['id'])\n",
    "    return (len(s), tot)\n",
    "\n",
    "def merge_dataset(dataset,):\n",
    "    ids = set(dataset[0]['id'])\n",
    "    new_dataset = dataset[0].copy()\n",
    "    for data in dataset[1:]:\n",
    "        for idx, row in data.iterrows():\n",
    "            if row['id'] in ids:\n",
    "                continue\n",
    "            new_dataset = new_dataset.append(row)\n",
    "            ids.add(row['id'])\n",
    "    new_dataset.sort_values('id', inplace=True)\n",
    "    new_dataset.drop_duplicates(keep=False,inplace=True)\n",
    "    return new_dataset"
   ]
  },
  {
   "cell_type": "code",
   "execution_count": 13,
   "metadata": {},
   "outputs": [
    {
     "name": "stdout",
     "output_type": "stream",
     "text": [
      "Positive (Unique, Total):  (599, 1706)\n",
      "Negative (Unique, Total):  (360, 1220)\n",
      "Positive:  597\n",
      "Negative:  358\n"
     ]
    }
   ],
   "source": [
    "positives, negatives = read_pd_dataframe()\n",
    "print('Positive (Unique, Total): ', get_unique_number_of_tweets(positives))\n",
    "print('Negative (Unique, Total): ', get_unique_number_of_tweets(negatives))\n",
    "positive_tweets, negative_tweets = merge_dataset(positives), merge_dataset(negatives)\n",
    "\n",
    "print(\"Positive: \", len(positive_tweets))\n",
    "print(\"Negative: \", len(negative_tweets))"
   ]
  },
  {
   "cell_type": "code",
   "execution_count": 15,
   "metadata": {},
   "outputs": [
    {
     "data": {
      "text/plain": [
       "True"
      ]
     },
     "execution_count": 15,
     "metadata": {},
     "output_type": "execute_result"
    }
   ],
   "source": [
    "len(set(positive_tweets['id'])) == len(positive_tweets)"
   ]
  },
  {
   "cell_type": "code",
   "execution_count": 16,
   "metadata": {},
   "outputs": [
    {
     "name": "stdout",
     "output_type": "stream",
     "text": [
      "Positive:  597  Negative:  358  Total :  955\n"
     ]
    }
   ],
   "source": [
    "dump_labeled_data('final.csv')"
   ]
  },
  {
   "cell_type": "code",
   "execution_count": null,
   "metadata": {},
   "outputs": [],
   "source": []
  }
 ],
 "metadata": {
  "kernelspec": {
   "display_name": "Python 3",
   "language": "python",
   "name": "python3"
  },
  "language_info": {
   "codemirror_mode": {
    "name": "ipython",
    "version": 3
   },
   "file_extension": ".py",
   "mimetype": "text/x-python",
   "name": "python",
   "nbconvert_exporter": "python",
   "pygments_lexer": "ipython3",
   "version": "3.7.3"
  }
 },
 "nbformat": 4,
 "nbformat_minor": 2
}
